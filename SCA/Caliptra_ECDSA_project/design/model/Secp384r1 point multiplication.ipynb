{
 "cells": [
  {
   "cell_type": "code",
   "execution_count": 1,
   "metadata": {},
   "outputs": [],
   "source": [
    "import math\n",
    "import numpy as np"
   ]
  },
  {
   "cell_type": "code",
   "execution_count": 2,
   "metadata": {},
   "outputs": [],
   "source": [
    "class Point_projective():\n",
    "    def __init__(self, X, Y, Z):\n",
    "        self.X = X\n",
    "        self.Y = Y\n",
    "        self.Z = Z\n",
    "\n",
    "class Curve_parameter():\n",
    "    def __init__(self, a, b, p):\n",
    "        self.p = p\n",
    "        self.a = a\n",
    "        self.b = b\n",
    "\n",
    "def print_point(P):\n",
    "    print(\"X= \",hex(P.X))\n",
    "    print(\"Y= \",hex(P.Y))\n",
    "    print(\"Z= \",hex(P.Z))"
   ]
  },
  {
   "cell_type": "markdown",
   "metadata": {},
   "source": [
    "# Montgomery multiplier parameter"
   ]
  },
  {
   "cell_type": "code",
   "execution_count": 3,
   "metadata": {},
   "outputs": [],
   "source": [
    "# Montgomery Multiplier parameter\n",
    "\n",
    "def conv2digit(x, digit_size, s):\n",
    "    t=x\n",
    "    T = []\n",
    "    for i in range (s):\n",
    "        T.append(0)\n",
    "    i=0\n",
    "    while (t > 0):\n",
    "        T[i] = t & (2**digit_size-1)\n",
    "        t= t >> digit_size;\n",
    "        i += 1\n",
    "    return T\n",
    "\n",
    "def egcd(a, b):\n",
    "    if a == 0:\n",
    "        return (b, 0, 1)\n",
    "    else:\n",
    "        g, y, x = egcd(b % a, a)\n",
    "        return (g, x - (b // a) * y, y)\n",
    "\n",
    "def modinv(a, m):\n",
    "    g, x, y = egcd(a, m)\n",
    "    if g != 1:\n",
    "        raise Exception('modular inverse does not exist')\n",
    "    else:\n",
    "        return x % m\n",
    "    \n",
    "def set_Mont_parameter(prime, wd_sz):\n",
    "    s = math.ceil((len(bin(prime))-2)/wd_sz) + 1 # number of words\n",
    "\n",
    "    fd_sz = wd_sz*s #feild size\n",
    "    R = 2**wd_sz\n",
    "    R2 = (2**fd_sz) **2 % prime\n",
    "    mu_word= (-modinv(prime, R)) % R\n",
    "\n",
    "    prime_word={}\n",
    "    for i in range(s):\n",
    "        prime_word[i] = (prime >> wd_sz*i) % R\n",
    "    \n",
    "    return s, fd_sz, R2, mu_word, prime_word\n",
    "\n",
    "def sum_carry(x):\n",
    "    S = x & (2**wd_sz - 1)\n",
    "    C = x >> wd_sz\n",
    "    return (C,S)\n",
    "\n",
    "#if mu_word = 1\n",
    "def Mont_mult(X, Y):\n",
    "    X_= conv2digit(X, wd_sz, s+1)\n",
    "    Y_= conv2digit(Y, wd_sz, s+1)\n",
    "    T = conv2digit(0, wd_sz, s+1)\n",
    "    for i in range(s):\n",
    "        (C,S) = sum_carry((T[0] +  (X_[i] * Y_[0])))\n",
    "        m = S\n",
    "        C = C + S\n",
    "        for j in range(1, s):\n",
    "            (C,S) = sum_carry(T[j] + m*prime_word[j] + X_[i]*Y_[j] + C)\n",
    "            T[j-1] = S\n",
    "        T[s-1] = C & (2**wd_sz - 1)\n",
    "    \n",
    "    T_total = 0\n",
    "    for j in range(s):\n",
    "        T_total += (T[j] << j*wd_sz)\n",
    "    return T_total"
   ]
  },
  {
   "cell_type": "markdown",
   "metadata": {},
   "source": [
    "# finite field arithmetic"
   ]
  },
  {
   "cell_type": "code",
   "execution_count": 4,
   "metadata": {},
   "outputs": [],
   "source": [
    "# finite field arithmetic including modular multiplier, modular inversion\n",
    "\n",
    "def fp_mult(a, b, p):\n",
    "    if(mont_flag):\n",
    "        return Mont_mult(a, b)\n",
    "    else:\n",
    "        return a * b % p\n",
    "    \n",
    "def fp_inv(a, p):\n",
    "    return FLT_inv(a, p)\n",
    "\n",
    "def FLT_inv(a, p):\n",
    "    window_size = 3\n",
    "    precompute = {}\n",
    "\n",
    "    if(mont_flag):\n",
    "        precompute[0] = Mont_mult(1, R2)\n",
    "    else:\n",
    "        precompute[0] = 1\n",
    "    for i in range(1, 2**window_size):\n",
    "        precompute[i] = fp_mult(a, precompute[i-1], p)\n",
    "        \n",
    "    power = p - 2\n",
    "    window_no = math.ceil(len(bin(power)[2:])/window_size)\n",
    "    a_inv = precompute[0]\n",
    "    for i in range(window_no-1, -1, -1):\n",
    "        for j in range(window_size):\n",
    "            a_inv = fp_mult(a_inv, a_inv, p)\n",
    "        \n",
    "        idx = (power >> (i*window_size)) & (2**window_size - 1)\n",
    "        a_inv = fp_mult(a_inv, precompute[idx], p)\n",
    "    \n",
    "    return a_inv"
   ]
  },
  {
   "cell_type": "markdown",
   "metadata": {},
   "source": [
    "# point multiplication and group operations"
   ]
  },
  {
   "cell_type": "code",
   "execution_count": 5,
   "metadata": {},
   "outputs": [],
   "source": [
    "# Montgomery ladder to perform point multiplication\n",
    "# point multiplication includes two main group operaitons: Point Addition (PA), and Point Doubling (PD)\n",
    "# group operations from https://hyperelliptic.org/EFD/g1p/auto-shortw-projective.html#addition-add-1998-cmo-2\n",
    "\n",
    "\n",
    "def ladder_step(E, P, k):  # point multiplication over curve E and base point P respect to scalar k\n",
    "    R = []\n",
    "    #R[0] = O\n",
    "    R.append(P)\n",
    "    #R[1] = P\n",
    "    R.append(PD(E, P))\n",
    "    \n",
    "    l = len(bin(k)[2:])\n",
    "    for i in range(l-2, -1, -1):\n",
    "        t = (k >> i) & 1\n",
    "        R[1-t] = PA(E, R[t], R[1-t])\n",
    "        R[t] = PD(E, R[t])\n",
    "\n",
    "    return R[0]\n",
    "\n",
    "# Point Addition\n",
    "def PA(E, P1, P2):\n",
    "    Y1Z2 = fp_mult(P1.Y, P2.Z, p)\n",
    "    X1Z2 = fp_mult(P1.X, P2.Z, p)\n",
    "    Z1Z2 = fp_mult(P1.Z, P2.Z, p)\n",
    "    u  = (fp_mult(P2.Y, P1.Z, p) - Y1Z2 ) % p\n",
    "    uu = fp_mult(u, u, p)\n",
    "    v = (fp_mult(P2.X, P1.Z, p) - X1Z2) % p\n",
    "    vv = fp_mult(v, v, p)\n",
    "    vvv = fp_mult(v, vv, p)\n",
    "    R = fp_mult(vv, X1Z2, p)\n",
    "    RpR = (R + R) % p\n",
    "    A = (fp_mult(uu, Z1Z2, p) - vvv - RpR) % p\n",
    "    X3 = fp_mult(v, A, p)\n",
    "    Y3 = (fp_mult(u, (R-A) % p, p) - fp_mult(vvv, Y1Z2, p)) % p\n",
    "    Z3 = fp_mult(vvv, Z1Z2, p)\n",
    "    return Point_projective(X3, Y3, Z3)\n",
    "\n",
    "# Point Doubling\n",
    "def PD(E_, P1):\n",
    "    XX = fp_mult(P1.X, P1.X, p)\n",
    "    ZZ = fp_mult(P1.Z, P1.Z, p)\n",
    "    XXp3 = (XX + XX + XX) % p\n",
    "    w = (fp_mult(E_.a, ZZ, p) + XXp3) % p\n",
    "    s_h = fp_mult(P1.Y, P1.Z, p)\n",
    "    s = (s_h + s_h) % p\n",
    "    ss = fp_mult(s, s, p)\n",
    "    sss = fp_mult(s, ss, p)\n",
    "    R = fp_mult(P1.Y, s, p)\n",
    "    RR = fp_mult(R, R, p)\n",
    "    B = (fp_mult((P1.X + R), (P1.X + R), p) - XX - RR) % p\n",
    "    BpB = (B + B) % p\n",
    "    h = (fp_mult(w, w, p) - BpB) % p\n",
    "    X3 = fp_mult(h, s, p)\n",
    "    RRpRR = (RR + RR) % p\n",
    "    Y3 = (fp_mult(w, (B - h) % p, p) - RRpRR) % p\n",
    "    Z3 = sss\n",
    "    return Point_projective(X3, Y3, Z3)"
   ]
  },
  {
   "cell_type": "markdown",
   "metadata": {},
   "source": [
    "# point multiplication test"
   ]
  },
  {
   "cell_type": "code",
   "execution_count": 6,
   "metadata": {},
   "outputs": [],
   "source": [
    "def test_ECPM(E, scalar, G_aff, Q):\n",
    "    \n",
    "    # regular point multiplication without Montgomery multiplier\n",
    "    if (mont_flag == False): \n",
    "        Z = 1\n",
    "        G = Point_projective(G_aff[0] * Z, G_aff[1] * Z, Z)\n",
    "        O = Point_projective(1, 1, 0)\n",
    "\n",
    "        k = fix_MSB(scalar)\n",
    "        #k = scalar\n",
    "        Q_proj = ladder_step(E, G, k)\n",
    "        Z_inv = fp_inv(Q_proj.Z, p)\n",
    "        Q_aff = [fp_mult(Q_proj.X, Z_inv, p), fp_mult(Q_proj.Y, Z_inv, p)]\n",
    "\n",
    "        if (Q):    \n",
    "            if (Q_aff == Q):\n",
    "                print('test passed!')\n",
    "            else:\n",
    "                print('test failed!')\n",
    "                print('scalar=',hex(k),'\\n')\n",
    "        return Q_aff\n",
    "    \n",
    "    # point multiplication with Montgomery multiplier\n",
    "    else:\n",
    "        E_mont = Curve_parameter(0, 0, p)\n",
    "        E_mont.a = Mont_mult(E.a, R2)\n",
    "        E_mont.b = Mont_mult(E.b, R2)\n",
    "\n",
    "        Z = 1\n",
    "        G = Point_projective(G_aff[0] * Z, G_aff[1] * Z, Z)\n",
    "        G_mont = Point_projective(0, 0, 0)\n",
    "        G_mont.X = Mont_mult(G.X, R2)\n",
    "        G_mont.Y = Mont_mult(G.Y, R2)\n",
    "        G_mont.Z = Mont_mult(G.Z, R2)\n",
    "\n",
    "        k = fix_MSB(scalar)\n",
    "        #k = scalar\n",
    "        Q_proj = ladder_step(E_mont, G_mont, k)\n",
    "        #print_point(Q_proj)\n",
    "        Z_inv = fp_inv(Q_proj.Z, p)\n",
    "        #print('Z_inv=',hex(Z_inv))\n",
    "\n",
    "        Q_aff_mont = [fp_mult(Q_proj.X, Z_inv, p), fp_mult(Q_proj.Y, Z_inv, p)]\n",
    "        Q_aff = [fp_mult(Q_aff_mont[0], 1, p), fp_mult(Q_aff_mont[1], 1, p)]\n",
    "\n",
    "        if (Q):    \n",
    "            if (Q_aff == Q):\n",
    "                print('test passed!')\n",
    "            else:\n",
    "                print('test failed!')\n",
    "        return Q_aff\n",
    "\n",
    "def fix_MSB(scalar):\n",
    "    scalar_q = scalar + q\n",
    "    scalar_2q = scalar + 2*q\n",
    "    \n",
    "    if ((scalar_q >> 384) == 1):\n",
    "        return scalar_q\n",
    "    else:\n",
    "        return scalar_2q"
   ]
  },
  {
   "cell_type": "markdown",
   "metadata": {},
   "source": [
    "#   secp384r1 curve parameters\n",
    "## https://datatracker.ietf.org/doc/html/rfc5114.html#section-2.7   "
   ]
  },
  {
   "cell_type": "code",
   "execution_count": 7,
   "metadata": {},
   "outputs": [],
   "source": [
    "# curve definition\n",
    "# y^2 = x^3 + ax + b\n",
    "a = 0xfffffffffffffffffffffffffffffffffffffffffffffffffffffffffffffffeffffffff0000000000000000fffffffc\n",
    "b = 0xb3312fa7e23ee7e4988e056be3f82d19181d9c6efe8141120314088f5013875ac656398d8a2ed19d2a85c8edd3ec2aef\n",
    "p = 0xfffffffffffffffffffffffffffffffffffffffffffffffffffffffffffffffeffffffff0000000000000000ffffffff\n",
    "\n",
    "E = Curve_parameter(a, b, p)\n",
    "\n",
    "q = 0xffffffffffffffffffffffffffffffffffffffffffffffffc7634d81f4372ddf581a0db248b0a77aecec196accc52973\n",
    "h = 0x1\n",
    "\n",
    "# secp384 base point\n",
    "xp = 0xaa87ca22be8b05378eb1c71ef320ad746e1d3b628ba79b9859f741e082542a385502f25dbf55296c3a545e3872760ab7\n",
    "yp = 0x3617de4a96262c6f5d9e98bf9292dc29f8f41dbd289a147ce9da3113b5f0b8c00a60b1ce1d7e819d7a431d7c90ea0e5f\n",
    "G = [xp, yp]"
   ]
  },
  {
   "cell_type": "markdown",
   "metadata": {},
   "source": [
    "# Point multiplication test without Montgomery multiplier\n",
    "## test vectors from  https://datatracker.ietf.org/doc/html/rfc5114.html#page-19"
   ]
  },
  {
   "cell_type": "code",
   "execution_count": 8,
   "metadata": {},
   "outputs": [],
   "source": [
    "dA   = 0xD27335EA71664AF244DD14E9FD1260715DFD8A7965571C48D709EE7A7962A156D706A90CBCB5DF2986F05FEADB9376F1\n",
    "x_qA = 0x793148F1787634D5DA4C6D9074417D05E057AB62F82054D10EE6B0403D6279547E6A8EA9D1FD77427D016FE27A8B8C66\n",
    "y_qA = 0xC6C41294331D23E6F480F4FB4CD40504C947392E94F4C3F06B8F398BB29E42368F7A685923DE3B67BACED214A1A1D128\n",
    "\n",
    "dB   = 0x52D1791FDB4B70F89C0F00D456C2F7023B6125262C36A7DF1F80231121CCE3D39BE52E00C194A4132C4A6C768BCD94D2\n",
    "x_qB = 0x5CD42AB9C41B5347F74B8D4EFB708B3D5B36DB65915359B44ABC17647B6B9999789D72A84865AE2F223F12B5A1ABC120\n",
    "y_qB = 0xE171458FEAA939AAA3A8BFAC46B404BD8F6D5B348C0FA4D80CECA16356CA933240BDE8723415A8ECE035B0EDF36755DE\n",
    "\n",
    "x_Z = 0x5EA1FC4AF7256D2055981B110575E0A8CAE53160137D904C59D926EB1B8456E427AA8A4540884C37DE159A58028ABC0E\n",
    "y_Z = 0x0CC59E4B046414A81C8A3BDFDCA92526C48769DD8D3127CAA99B3632D1913942DE362EAFAA962379374D9F3F066841CA"
   ]
  },
  {
   "cell_type": "code",
   "execution_count": 9,
   "metadata": {},
   "outputs": [
    {
     "name": "stdout",
     "output_type": "stream",
     "text": [
      "test passed!\n",
      "test passed!\n",
      "test passed!\n",
      "test passed!\n"
     ]
    }
   ],
   "source": [
    "mont_flag = False\n",
    "\n",
    "Q_A = test_ECPM(E, dA, G, [x_qA, y_qA])\n",
    "\n",
    "Q_B = test_ECPM(E, dB, G, [x_qB, y_qB])\n",
    "\n",
    "Q_AB = test_ECPM(E, dB, Q_A, [x_Z, y_Z])\n",
    "Q_BA = test_ECPM(E, dA, Q_B, [x_Z, y_Z])"
   ]
  },
  {
   "cell_type": "markdown",
   "metadata": {},
   "source": [
    "# Point multiplication test with Montgomery multiplier"
   ]
  },
  {
   "cell_type": "code",
   "execution_count": 10,
   "metadata": {},
   "outputs": [],
   "source": [
    "# Montgomery multiplier settings\n",
    "wd_sz = 32 # word size\n",
    "s, fd_sz, R2, mu_word, prime_word = set_Mont_parameter(p, wd_sz)"
   ]
  },
  {
   "cell_type": "code",
   "execution_count": 11,
   "metadata": {},
   "outputs": [
    {
     "name": "stdout",
     "output_type": "stream",
     "text": [
      "test passed!\n",
      "test passed!\n",
      "test passed!\n",
      "test passed!\n"
     ]
    }
   ],
   "source": [
    "mont_flag = True\n",
    "\n",
    "Q_A = test_ECPM(E, dA, G, [x_qA, y_qA])\n",
    "\n",
    "Q_B = test_ECPM(E, dB, G, [x_qB, y_qB])\n",
    "\n",
    "Q_AB = test_ECPM(E, dB, Q_A, [x_Z, y_Z])\n",
    "Q_BA = test_ECPM(E, dA, Q_B, [x_Z, y_Z])"
   ]
  }
 ],
 "metadata": {
  "kernelspec": {
   "display_name": "Python 3",
   "language": "python",
   "name": "python3"
  },
  "language_info": {
   "codemirror_mode": {
    "name": "ipython",
    "version": 3
   },
   "file_extension": ".py",
   "mimetype": "text/x-python",
   "name": "python",
   "nbconvert_exporter": "python",
   "pygments_lexer": "ipython3",
   "version": "3.7.10"
  }
 },
 "nbformat": 4,
 "nbformat_minor": 4
}
